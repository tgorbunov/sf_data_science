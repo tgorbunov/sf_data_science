{
 "cells": [
  {
   "cell_type": "markdown",
   "id": "e602de57",
   "metadata": {},
   "source": [
    "# Тестирование новой версии сайта"
   ]
  },
  {
   "cell_type": "markdown",
   "id": "8bd04503",
   "metadata": {},
   "source": [
    "Одно из самых важных и распространённых применений статистических тестов в бизнесе — это A/B-тестирование.\n",
    "\n",
    "A/B-тестирование — это метод проверки эффективности изменений в продукте, который заключается в сравнении текущей версии продукта (версии А) с его изменённой версией (версией B) на основании данных, полученных до внедрения обновления в продукт и после него.\n",
    "\n",
    "Чтобы понять, являются ли результаты A/B-теста статистически значимыми, как раз используются статистические тесты.\n",
    "\n",
    "Мы будем подробнее говорить об A/B-тестировании в блоке «Машинное обучение в бизнесе», будем учиться правильно его проводить, а также интерпретировать результаты. Однако уже сейчас, зная основные статистические тесты, мы сможем решить простейшую задачу.\n",
    "\n",
    "Компания по продаже бытовой техники представила новую версию сайта с рекомендациями товаров. Предполагается, что новый сайт будет стимулировать посетителей оставаться на нём в течение более длительного времени. Для проведения теста компания перенаправляет часть трафика на обновлённую версию сайта.\n",
    "\n",
    "Результат с дневным трафиком хранится в файле new-site.\n",
    "\n",
    "Примечание. Разделитель в файле — символ табуляции '\\t'.\n",
    "\n",
    "Каждая строка показывает время пребывания посетителей на сайте. Если посетитель пользовался исходным дизайном, то считается, что он относился к контрольной группе А; если обновлённым — к тестовой группе B.\n",
    "\n",
    "Необходимо провести небольшое исследование и определить, повлияло ли внедрение рекомендательной системы на длительность сессии пользователей на сайте.\n",
    "\n",
    "Вам предстоит произвести статический анализ результатов A/B-теста и проверить предложенную бизнес-гипотезу. Итак, приступим!"
   ]
  },
  {
   "cell_type": "code",
   "execution_count": 5,
   "id": "258b48ad",
   "metadata": {},
   "outputs": [
    {
     "data": {
      "text/html": [
       "<div>\n",
       "<style scoped>\n",
       "    .dataframe tbody tr th:only-of-type {\n",
       "        vertical-align: middle;\n",
       "    }\n",
       "\n",
       "    .dataframe tbody tr th {\n",
       "        vertical-align: top;\n",
       "    }\n",
       "\n",
       "    .dataframe thead th {\n",
       "        text-align: right;\n",
       "    }\n",
       "</style>\n",
       "<table border=\"1\" class=\"dataframe\">\n",
       "  <thead>\n",
       "    <tr style=\"text-align: right;\">\n",
       "      <th></th>\n",
       "      <th>site</th>\n",
       "      <th>dwell-time</th>\n",
       "    </tr>\n",
       "  </thead>\n",
       "  <tbody>\n",
       "    <tr>\n",
       "      <th>0</th>\n",
       "      <td>0</td>\n",
       "      <td>2</td>\n",
       "    </tr>\n",
       "    <tr>\n",
       "      <th>1</th>\n",
       "      <td>1</td>\n",
       "      <td>48</td>\n",
       "    </tr>\n",
       "    <tr>\n",
       "      <th>2</th>\n",
       "      <td>0</td>\n",
       "      <td>15</td>\n",
       "    </tr>\n",
       "    <tr>\n",
       "      <th>3</th>\n",
       "      <td>1</td>\n",
       "      <td>16</td>\n",
       "    </tr>\n",
       "    <tr>\n",
       "      <th>4</th>\n",
       "      <td>0</td>\n",
       "      <td>38</td>\n",
       "    </tr>\n",
       "  </tbody>\n",
       "</table>\n",
       "</div>"
      ],
      "text/plain": [
       "   site  dwell-time\n",
       "0     0           2\n",
       "1     1          48\n",
       "2     0          15\n",
       "3     1          16\n",
       "4     0          38"
      ]
     },
     "execution_count": 5,
     "metadata": {},
     "output_type": "execute_result"
    }
   ],
   "source": [
    "import pandas as pd\n",
    "\n",
    "data = pd.read_csv('data/new-site.csv', sep='\\t')\n",
    "data.head(5)"
   ]
  },
  {
   "cell_type": "code",
   "execution_count": 7,
   "id": "8faf3fc5",
   "metadata": {},
   "outputs": [
    {
     "name": "stdout",
     "output_type": "stream",
     "text": [
      "16898\n",
      "10032\n"
     ]
    }
   ],
   "source": [
    "# Предполагаем, что в данных есть столбцы 'site' (0/1) и 'dwell-time' (время на сайте)\n",
    "sum_A = data[data['site'] == 0]['dwell-time'].sum()\n",
    "sum_B = data[data['site'] == 1]['dwell-time'].sum()\n",
    "print(sum_A)\n",
    "print(sum_B)"
   ]
  },
  {
   "cell_type": "code",
   "execution_count": 8,
   "id": "24ea78a8",
   "metadata": {},
   "outputs": [
    {
     "name": "stdout",
     "output_type": "stream",
     "text": [
      "91\n",
      "88\n"
     ]
    }
   ],
   "source": [
    "mean_A = round(data[data['site'] == 0]['dwell-time'].mean())\n",
    "mean_B = round(data[data['site'] == 1]['dwell-time'].mean())\n",
    "print(mean_A)\n",
    "print(mean_B)"
   ]
  },
  {
   "cell_type": "code",
   "execution_count": 9,
   "id": "8e080f29",
   "metadata": {},
   "outputs": [
    {
     "name": "stdout",
     "output_type": "stream",
     "text": [
      "p-value для группы A: 4.499873552750829e-17\n",
      "p-value для группы B: 3.5727031185288115e-13\n",
      "В группе A распределение не является нормальным\n",
      "В группе B распределение не является нормальным\n"
     ]
    }
   ],
   "source": [
    "from scipy.stats import shapiro\n",
    "\n",
    "stat_A, p_A = shapiro(data[data['site'] == 0]['dwell-time'])\n",
    "stat_B, p_B = shapiro(data[data['site'] == 1]['dwell-time'])\n",
    "\n",
    "print('p-value для группы A:', p_A)\n",
    "print('p-value для группы B:', p_B)\n",
    "\n",
    "alpha = 0.05\n",
    "if p_A < alpha:\n",
    "    print(\"В группе A распределение не является нормальным\")\n",
    "else:\n",
    "    print(\"В группе A распределение является нормальным\")\n",
    "\n",
    "if p_B < alpha:\n",
    "    print(\"В группе B распределение не является нормальным\")\n",
    "else:\n",
    "    print(\"В группе B распределение является нормальным\")"
   ]
  },
  {
   "cell_type": "code",
   "execution_count": 10,
   "id": "79e49a1d",
   "metadata": {},
   "outputs": [
    {
     "name": "stdout",
     "output_type": "stream",
     "text": [
      "p-value: 0.895811197131841\n",
      "Нет оснований отвергать нулевую гипотезу: различия между группами не обнаружены\n"
     ]
    }
   ],
   "source": [
    "from scipy.stats import mannwhitneyu\n",
    "\n",
    "# Получаем значения времени для каждой группы\n",
    "group_A = data[data['site'] == 0]['dwell-time']\n",
    "group_B = data[data['site'] == 1]['dwell-time']\n",
    "\n",
    "# U-тест Манна–Уитни\n",
    "stat, p_value = mannwhitneyu(group_A, group_B, alternative='two-sided')\n",
    "\n",
    "print('p-value:', p_value)\n",
    "\n",
    "alpha = 0.05\n",
    "if p_value < alpha:\n",
    "    print(\"Отвергаем нулевую гипотезу: различия между группами статистически значимы\")\n",
    "else:\n",
    "    print(\"Нет оснований отвергать нулевую гипотезу: различия между группами не обнаружены\")"
   ]
  }
 ],
 "metadata": {
  "kernelspec": {
   "display_name": "Python 3",
   "language": "python",
   "name": "python3"
  },
  "language_info": {
   "codemirror_mode": {
    "name": "ipython",
    "version": 3
   },
   "file_extension": ".py",
   "mimetype": "text/x-python",
   "name": "python",
   "nbconvert_exporter": "python",
   "pygments_lexer": "ipython3",
   "version": "3.10.0"
  }
 },
 "nbformat": 4,
 "nbformat_minor": 5
}
