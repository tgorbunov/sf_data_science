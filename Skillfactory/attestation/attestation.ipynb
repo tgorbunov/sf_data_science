{
 "cells": [
  {
   "cell_type": "markdown",
   "id": "c373b47e",
   "metadata": {},
   "source": [
    "# Attestation"
   ]
  },
  {
   "cell_type": "code",
   "execution_count": 2,
   "id": "5d6f15ca",
   "metadata": {},
   "outputs": [],
   "source": [
    "import pandas as pd\n",
    "import numpy as np\n",
    "import matplotlib.pyplot as plt\n",
    "import seaborn as sns\n",
    "import plotly.express as px\n",
    "import json\n",
    "from bs4 import BeautifulSoup\n",
    "import requests\n",
    "from pprint import pprint\n",
    "import schedule\n",
    "import time\n",
    "from chardet.universaldetector import UniversalDetector\n"
   ]
  },
  {
   "cell_type": "code",
   "execution_count": 3,
   "id": "1808b672",
   "metadata": {},
   "outputs": [
    {
     "name": "stdout",
     "output_type": "stream",
     "text": [
      "True True True False\n"
     ]
    }
   ],
   "source": [
    "a = [1,2,3]\n",
    "b = a\n",
    "c = [1,2,3]\n",
    "print(a == b, a == c, a is b, a is c)"
   ]
  },
  {
   "cell_type": "code",
   "execution_count": 12,
   "id": "2d760760",
   "metadata": {},
   "outputs": [],
   "source": [
    "one = [1, \"2\", 3, \"4\"]\n",
    "two = (\"a\", \"b\", \"c\", \"d\")"
   ]
  },
  {
   "cell_type": "code",
   "execution_count": 21,
   "id": "4ae290f3",
   "metadata": {},
   "outputs": [
    {
     "name": "stdout",
     "output_type": "stream",
     "text": [
      "[1, '2', 3]\n"
     ]
    }
   ],
   "source": [
    "my_lst = [1, \"2\", 3, \"4\"]\n",
    "my_lst = my_lst[:-1]\n",
    "print(my_lst)"
   ]
  },
  {
   "cell_type": "code",
   "execution_count": 24,
   "id": "e446fdf7",
   "metadata": {},
   "outputs": [],
   "source": [
    "config = {\n",
    "    \"server\": {\n",
    "        \"host\": \"127.0.0.1\",\n",
    "        \"port\": \"22\"\n",
    "    },\n",
    "    \"configuration\": {\n",
    "        \"ssh\": {\n",
    "            \"access\": True,\n",
    "            \"login\": \"some_log\",\n",
    "            \"password\": \"some_pass\"\n",
    "        },\n",
    "        \"name\": \"2491Oaaf1414\"\n",
    "    }\n",
    "}"
   ]
  },
  {
   "cell_type": "code",
   "execution_count": 29,
   "id": "5b45e483",
   "metadata": {},
   "outputs": [
    {
     "data": {
      "text/plain": [
       "'some_log'"
      ]
     },
     "execution_count": 29,
     "metadata": {},
     "output_type": "execute_result"
    }
   ],
   "source": [
    "config['configuration']['ssh']['login']"
   ]
  },
  {
   "cell_type": "code",
   "execution_count": 38,
   "id": "1b690bcc",
   "metadata": {},
   "outputs": [],
   "source": [
    "s = 'abd gfdlps'"
   ]
  },
  {
   "cell_type": "code",
   "execution_count": 39,
   "id": "18fffd12",
   "metadata": {},
   "outputs": [
    {
     "name": "stdout",
     "output_type": "stream",
     "text": [
      "abd gfdlps\n"
     ]
    }
   ],
   "source": [
    "s.replace(' ', '')\n",
    "print(s)"
   ]
  },
  {
   "cell_type": "code",
   "execution_count": null,
   "id": "fcb9412d",
   "metadata": {},
   "outputs": [
    {
     "data": {
      "text/plain": [
       "['abd', 'gfdlps']"
      ]
     },
     "execution_count": 41,
     "metadata": {},
     "output_type": "execute_result"
    }
   ],
   "source": [
    "s.split(' ')\n"
   ]
  },
  {
   "cell_type": "code",
   "execution_count": 42,
   "id": "90312460",
   "metadata": {},
   "outputs": [
    {
     "name": "stdout",
     "output_type": "stream",
     "text": [
      "abd gfdlps\n"
     ]
    }
   ],
   "source": [
    "''.join(s)\n",
    "print(s)"
   ]
  },
  {
   "cell_type": "code",
   "execution_count": 43,
   "id": "66b3f1b6",
   "metadata": {},
   "outputs": [],
   "source": [
    "temperature = 30\n",
    "remaining_time = '09:00'\n"
   ]
  },
  {
   "cell_type": "code",
   "execution_count": 47,
   "id": "3b7ca79d",
   "metadata": {},
   "outputs": [
    {
     "data": {
      "text/plain": [
       "'Температура: {temperature}, оставшееся время: {remaining_time}'"
      ]
     },
     "execution_count": 47,
     "metadata": {},
     "output_type": "execute_result"
    }
   ],
   "source": [
    "r'Температура: {temperature}, оставшееся время: {remaining_time}'"
   ]
  },
  {
   "cell_type": "code",
   "execution_count": 48,
   "id": "0098bcc9",
   "metadata": {},
   "outputs": [],
   "source": [
    "s = '45506069'"
   ]
  },
  {
   "cell_type": "code",
   "execution_count": 52,
   "id": "3e895a49",
   "metadata": {},
   "outputs": [
    {
     "data": {
      "text/plain": [
       "'45506069'"
      ]
     },
     "execution_count": 52,
     "metadata": {},
     "output_type": "execute_result"
    }
   ],
   "source": [
    "s.lower()"
   ]
  },
  {
   "cell_type": "code",
   "execution_count": null,
   "id": "463a1453",
   "metadata": {},
   "outputs": [],
   "source": [
    "# Функция чтения данных\n",
    "def read_data():\n",
    "    data = open('war_peace_processed.txt', 'rt', encoding='utf-8').read()\n",
    "    data = data.split('\\n')\n",
    "    return data\n",
    "\n",
    "\n",
    "# Функция подсчёта частоты употребления слова в тексте\n",
    "def freq(target_word):  \n",
    "    new_dict = dict() \n",
    "    for i in data: # СТРОКА С ОШИБКОЙ\n",
    "        if i not in new_dict:\n",
    "            new_dict[i] = 1\n",
    "        else:\n",
    "            new_dict[i] = new_dict.get(i) + 1\n",
    "    return new_dict.get(target_word, 0)\n",
    "\n",
    "\n",
    "# Вызов функций\n",
    "read_data()\n",
    "freq('война')"
   ]
  },
  {
   "cell_type": "markdown",
   "id": "43e25643",
   "metadata": {},
   "source": [
    "Вам предоставлен словарь products, ключами которого являются названия продуктов, а значениями — их цены. Затем к вам приходит другой словарь (stocks), ключи которого — товары, а значения — скидки (в процентах) на товары.\n",
    "\n",
    "Напишите функцию apply_discounts(products, stocks), которая снижает цену продуктов в словаре products на указанный в словаре stocks процент. Функция должна вернуть результирующий словарь, ключи которого — товары, а значения — новые цены. Если продукта из словаря stocks нет в словаре products, то его необходимо пропустить. Цены округлите до второго знака после запятой."
   ]
  },
  {
   "cell_type": "code",
   "execution_count": 58,
   "id": "c878b04d",
   "metadata": {},
   "outputs": [
    {
     "name": "stdout",
     "output_type": "stream",
     "text": [
      "{'Oranges (packaged)': 114.99, 'Candy (Rotfront)': 280.0, 'Boiled sausage': 133.99, 'Juice J7 (orange)': 105.59, 'Trout (Seven Seas)': 327.99}\n"
     ]
    }
   ],
   "source": [
    "def apply_discounts(products, stocks):\n",
    "    updated_products = {}\n",
    "    for product, price in products.items():\n",
    "        if product in stocks:\n",
    "            stock_percentage = int(stocks[product].strip('%'))\n",
    "            discount = stock_percentage / 100  # Скидка в процентах\n",
    "            discounted_price = price * (1 - discount)\n",
    "            updated_products[product] = round(discounted_price, 2)\n",
    "        else:\n",
    "            updated_products[product] = price\n",
    "    return updated_products\n",
    "\n",
    "products = {'Oranges (packaged)': 114.99, 'Candy (Rotfront)': 280.0, 'Boiled sausage': 199.99, 'Juice J7 (orange)': 119.99, 'Trout (Seven Seas)': 399.99}\n",
    "stocks = {'Boiled sausage': '33%', 'Juice J7 (orange)': '12%', 'Trout (Seven Seas)': '18%'}\n",
    "\n",
    "print(apply_discounts(products, stocks))\n",
    "\n",
    "## {'Oranges (packaged)': 114.99, 'Candy (Rotfront)': 280.0, 'Boiled sausage': 133.99, 'Juice J7 (orange)': 105.59, 'Trout (Seven Seas)': 327.99}\n"
   ]
  },
  {
   "cell_type": "markdown",
   "id": "02b66035",
   "metadata": {},
   "source": [
    "Вам даны два файла bronze_top.csv и silver_top.csv, в которых хранится информация о ТОП-5 стран по числу бронзовых и серебряных медалей соответственно. В каждой таблице два одинаковых столбца: Country — страна и Total — число медалей.\n",
    "\n",
    "Создайте два DataFrame на основе заданных csv-файлов. Объедините таблицы по странам таким образом, чтобы в результат вошли данные только о тех странах, которые попали в оба рейтинга. При этом в качестве суффиксов укажите строки \"_bronze\" и \"_silver\", чтобы столбцы таблиц, не участвовавших в объединении, можно было различать.\n",
    "\n",
    "Результирующий DataFrame занесите в переменную merged. В нём должны быть следующие столбцы:\n",
    "\n",
    "Country\n",
    "Total_bronze\n",
    "Total_silver\n",
    "Не забудьте добавить в свой код импорт библиотеки pandas.\n",
    "\n",
    "Также обратите внимание, что для отправки решения на проверку выводить результат на экран не нужно."
   ]
  },
  {
   "cell_type": "code",
   "execution_count": 66,
   "id": "1745ef75",
   "metadata": {},
   "outputs": [
    {
     "data": {
      "text/html": [
       "<div>\n",
       "<style scoped>\n",
       "    .dataframe tbody tr th:only-of-type {\n",
       "        vertical-align: middle;\n",
       "    }\n",
       "\n",
       "    .dataframe tbody tr th {\n",
       "        vertical-align: top;\n",
       "    }\n",
       "\n",
       "    .dataframe thead th {\n",
       "        text-align: right;\n",
       "    }\n",
       "</style>\n",
       "<table border=\"1\" class=\"dataframe\">\n",
       "  <thead>\n",
       "    <tr style=\"text-align: right;\">\n",
       "      <th></th>\n",
       "      <th>Country</th>\n",
       "      <th>Total</th>\n",
       "    </tr>\n",
       "  </thead>\n",
       "  <tbody>\n",
       "    <tr>\n",
       "      <th>0</th>\n",
       "      <td>Germany</td>\n",
       "      <td>1</td>\n",
       "    </tr>\n",
       "    <tr>\n",
       "      <th>1</th>\n",
       "      <td>Spain</td>\n",
       "      <td>2</td>\n",
       "    </tr>\n",
       "    <tr>\n",
       "      <th>2</th>\n",
       "      <td>France</td>\n",
       "      <td>3</td>\n",
       "    </tr>\n",
       "    <tr>\n",
       "      <th>3</th>\n",
       "      <td>Russia</td>\n",
       "      <td>10</td>\n",
       "    </tr>\n",
       "    <tr>\n",
       "      <th>4</th>\n",
       "      <td>USA</td>\n",
       "      <td>0</td>\n",
       "    </tr>\n",
       "  </tbody>\n",
       "</table>\n",
       "</div>"
      ],
      "text/plain": [
       "   Country  Total\n",
       "0  Germany      1\n",
       "1    Spain      2\n",
       "2  France       3\n",
       "3   Russia     10\n",
       "4      USA      0"
      ]
     },
     "metadata": {},
     "output_type": "display_data"
    },
    {
     "data": {
      "text/html": [
       "<div>\n",
       "<style scoped>\n",
       "    .dataframe tbody tr th:only-of-type {\n",
       "        vertical-align: middle;\n",
       "    }\n",
       "\n",
       "    .dataframe tbody tr th {\n",
       "        vertical-align: top;\n",
       "    }\n",
       "\n",
       "    .dataframe thead th {\n",
       "        text-align: right;\n",
       "    }\n",
       "</style>\n",
       "<table border=\"1\" class=\"dataframe\">\n",
       "  <thead>\n",
       "    <tr style=\"text-align: right;\">\n",
       "      <th></th>\n",
       "      <th>Country</th>\n",
       "      <th>Total</th>\n",
       "    </tr>\n",
       "  </thead>\n",
       "  <tbody>\n",
       "    <tr>\n",
       "      <th>0</th>\n",
       "      <td>Germany</td>\n",
       "      <td>1</td>\n",
       "    </tr>\n",
       "    <tr>\n",
       "      <th>1</th>\n",
       "      <td>Spain</td>\n",
       "      <td>2</td>\n",
       "    </tr>\n",
       "    <tr>\n",
       "      <th>2</th>\n",
       "      <td>France</td>\n",
       "      <td>3</td>\n",
       "    </tr>\n",
       "    <tr>\n",
       "      <th>3</th>\n",
       "      <td>Russia</td>\n",
       "      <td>10</td>\n",
       "    </tr>\n",
       "    <tr>\n",
       "      <th>4</th>\n",
       "      <td>USA</td>\n",
       "      <td>0</td>\n",
       "    </tr>\n",
       "  </tbody>\n",
       "</table>\n",
       "</div>"
      ],
      "text/plain": [
       "   Country  Total\n",
       "0  Germany      1\n",
       "1    Spain      2\n",
       "2  France       3\n",
       "3   Russia     10\n",
       "4      USA      0"
      ]
     },
     "metadata": {},
     "output_type": "display_data"
    },
    {
     "name": "stdout",
     "output_type": "stream",
     "text": [
      "   Country  Total_bronze  Total_silver\n",
      "0  Germany             1             1\n",
      "1    Spain             2             2\n",
      "2  France              3             3\n",
      "3   Russia            10            10\n",
      "4      USA             0             0\n"
     ]
    }
   ],
   "source": [
    "import pandas as pd\n",
    "\n",
    "# Чтение данных из файлов\n",
    "bronze = pd.read_csv('bronze_top.csv')\n",
    "silver = pd.read_csv('silver_top.csv')\n",
    "\n",
    "display(bronze.head())\n",
    "display(silver.head())\n",
    "\n",
    "# Объединение по странам, только для тех, кто есть в обоих рейтингах\n",
    "merged = pd.merge(\n",
    "    bronze,\n",
    "    silver,\n",
    "    on='Country',\n",
    "    how='inner',\n",
    "    suffixes=('_bronze', '_silver')\n",
    ")\n",
    "\n",
    "print(merged)\n"
   ]
  },
  {
   "cell_type": "markdown",
   "id": "77dd3de7",
   "metadata": {},
   "source": [
    "###  3. Практические задания в Jupyter Notebook"
   ]
  },
  {
   "cell_type": "markdown",
   "id": "2e8a87f7",
   "metadata": {},
   "source": [
    "✍ В данном блоке вам предстоит решить задачу, которую автор модуля когда-то решал на одном из собеседований."
   ]
  },
  {
   "cell_type": "markdown",
   "id": "3150f290",
   "metadata": {},
   "source": [
    "Дана таблица с данными о ежедневной выработке энергии солнечными батареями. Информация содержится в двух столбцах:\n",
    "\n",
    "- date — дата наблюдения;\n",
    "- cum_power — накопленная (кумулятивная) выработка энергии на указанный день.\n",
    "Таким образом, перед вами классический пример временного ряда — числовой показатель, зависящий от времени. Давайте с ним поработаем.\n",
    "\n",
    "Для начала прочитаем таблицу и выведем первые пять её строк:"
   ]
  },
  {
   "cell_type": "code",
   "execution_count": 68,
   "id": "bf12f013",
   "metadata": {},
   "outputs": [
    {
     "data": {
      "text/html": [
       "<div>\n",
       "<style scoped>\n",
       "    .dataframe tbody tr th:only-of-type {\n",
       "        vertical-align: middle;\n",
       "    }\n",
       "\n",
       "    .dataframe tbody tr th {\n",
       "        vertical-align: top;\n",
       "    }\n",
       "\n",
       "    .dataframe thead th {\n",
       "        text-align: right;\n",
       "    }\n",
       "</style>\n",
       "<table border=\"1\" class=\"dataframe\">\n",
       "  <thead>\n",
       "    <tr style=\"text-align: right;\">\n",
       "      <th></th>\n",
       "      <th>date</th>\n",
       "      <th>cum_power</th>\n",
       "    </tr>\n",
       "  </thead>\n",
       "  <tbody>\n",
       "    <tr>\n",
       "      <th>0</th>\n",
       "      <td>2017-01-01</td>\n",
       "      <td>20111.0</td>\n",
       "    </tr>\n",
       "    <tr>\n",
       "      <th>1</th>\n",
       "      <td>2017-01-02</td>\n",
       "      <td>20112.0</td>\n",
       "    </tr>\n",
       "    <tr>\n",
       "      <th>2</th>\n",
       "      <td>2017-01-03</td>\n",
       "      <td>20115.0</td>\n",
       "    </tr>\n",
       "    <tr>\n",
       "      <th>3</th>\n",
       "      <td>2017-01-04</td>\n",
       "      <td>20117.0</td>\n",
       "    </tr>\n",
       "    <tr>\n",
       "      <th>4</th>\n",
       "      <td>2017-01-05</td>\n",
       "      <td>20119.0</td>\n",
       "    </tr>\n",
       "  </tbody>\n",
       "</table>\n",
       "</div>"
      ],
      "text/plain": [
       "         date  cum_power\n",
       "0  2017-01-01    20111.0\n",
       "1  2017-01-02    20112.0\n",
       "2  2017-01-03    20115.0\n",
       "3  2017-01-04    20117.0\n",
       "4  2017-01-05    20119.0"
      ]
     },
     "execution_count": 68,
     "metadata": {},
     "output_type": "execute_result"
    }
   ],
   "source": [
    "solar_data = pd.read_csv('data/solarpower.csv')\n",
    "solar_data.head()"
   ]
  },
  {
   "cell_type": "markdown",
   "id": "01ea340e",
   "metadata": {},
   "source": [
    "### Задание 3.1"
   ]
  },
  {
   "cell_type": "markdown",
   "id": "fa751457",
   "metadata": {},
   "source": [
    "В нашем временном ряде есть несколько пропусков, они обозначены числом -1. Заполните пропуски средним арифметическим между двумя соседними наблюдениями:"
   ]
  },
  {
   "cell_type": "markdown",
   "id": "3ba40c8e",
   "metadata": {},
   "source": [
    "Совет: проще всего будет сделать это, используя цикл по индексам элементов столбца cum_power, но вы можете предложить более изящное решение."
   ]
  },
  {
   "attachments": {
    "image.png": {
     "image/png": "[encoded data removed]"
    }
   },
   "cell_type": "markdown",
   "id": "262e60ec",
   "metadata": {},
   "source": [
    "![image.png](attachment:image.png)"
   ]
  },
  {
   "cell_type": "markdown",
   "id": "506e85ec",
   "metadata": {},
   "source": [
    "Чему равно среднее арифметическое в столбце cum_power после заполнения пропусков? Ответ округлите до целого."
   ]
  },
  {
   "cell_type": "code",
   "execution_count": 85,
   "id": "cb9ec911",
   "metadata": {},
   "outputs": [
    {
     "data": {
      "text/plain": [
       "np.float64(23848.246987951807)"
      ]
     },
     "execution_count": 85,
     "metadata": {},
     "output_type": "execute_result"
    }
   ],
   "source": [
    "for i in range(1, len(solar_data['cum_power']) - 1):\n",
    "    if solar_data.loc[i, 'cum_power'] == -1:\n",
    "        solar_data.loc[i, 'cum_power'] = 0.5 * (solar_data.loc[i - 1, 'cum_power'] + solar_data.loc[i + 1, 'cum_power'])\n",
    "\n",
    "solar_data['cum_power'].mean()"
   ]
  },
  {
   "cell_type": "markdown",
   "id": "83ab948e",
   "metadata": {},
   "source": [
    "### Задание 3.2"
   ]
  },
  {
   "cell_type": "markdown",
   "id": "238fa2c4",
   "metadata": {},
   "source": [
    "Теперь, когда таблица заполнена, создайте столбец day_power — ежедневная выработка солнечной энергии.\n",
    "\n",
    "Далее создайте данные о средней ежедневной выработке энергии на каждый месяц-год."
   ]
  },
  {
   "cell_type": "markdown",
   "id": "dca753cf",
   "metadata": {},
   "source": [
    "Совет: для того чтобы выделить из даты год и месяц, проще всего будет воспользоваться методом аксессора dt.to_period('M'), который позволяет выделять периоды (в данном случае 'М' — месяц)."
   ]
  },
  {
   "cell_type": "markdown",
   "id": "a5bda981",
   "metadata": {},
   "source": [
    "Затем сгруппируйте данные по периодам (год-месяц) и рассчитайте среднее в столбце day_power.\n",
    "\n",
    "Сколько солнечной энергии в среднем в день выработали в марте 2017 года? Ответ округлите до целого."
   ]
  },
  {
   "cell_type": "code",
   "execution_count": 88,
   "id": "a479a594",
   "metadata": {},
   "outputs": [
    {
     "data": {
      "text/html": [
       "<div>\n",
       "<style scoped>\n",
       "    .dataframe tbody tr th:only-of-type {\n",
       "        vertical-align: middle;\n",
       "    }\n",
       "\n",
       "    .dataframe tbody tr th {\n",
       "        vertical-align: top;\n",
       "    }\n",
       "\n",
       "    .dataframe thead th {\n",
       "        text-align: right;\n",
       "    }\n",
       "</style>\n",
       "<table border=\"1\" class=\"dataframe\">\n",
       "  <thead>\n",
       "    <tr style=\"text-align: right;\">\n",
       "      <th></th>\n",
       "      <th>date</th>\n",
       "      <th>cum_power</th>\n",
       "      <th>month</th>\n",
       "    </tr>\n",
       "  </thead>\n",
       "  <tbody>\n",
       "    <tr>\n",
       "      <th>0</th>\n",
       "      <td>2017-01-01</td>\n",
       "      <td>20111.0</td>\n",
       "      <td>2017-01</td>\n",
       "    </tr>\n",
       "    <tr>\n",
       "      <th>1</th>\n",
       "      <td>2017-01-02</td>\n",
       "      <td>20112.0</td>\n",
       "      <td>2017-01</td>\n",
       "    </tr>\n",
       "    <tr>\n",
       "      <th>2</th>\n",
       "      <td>2017-01-03</td>\n",
       "      <td>20115.0</td>\n",
       "      <td>2017-01</td>\n",
       "    </tr>\n",
       "    <tr>\n",
       "      <th>3</th>\n",
       "      <td>2017-01-04</td>\n",
       "      <td>20117.0</td>\n",
       "      <td>2017-01</td>\n",
       "    </tr>\n",
       "    <tr>\n",
       "      <th>4</th>\n",
       "      <td>2017-01-05</td>\n",
       "      <td>20119.0</td>\n",
       "      <td>2017-01</td>\n",
       "    </tr>\n",
       "  </tbody>\n",
       "</table>\n",
       "</div>"
      ],
      "text/plain": [
       "         date  cum_power    month\n",
       "0  2017-01-01    20111.0  2017-01\n",
       "1  2017-01-02    20112.0  2017-01\n",
       "2  2017-01-03    20115.0  2017-01\n",
       "3  2017-01-04    20117.0  2017-01\n",
       "4  2017-01-05    20119.0  2017-01"
      ]
     },
     "metadata": {},
     "output_type": "display_data"
    }
   ],
   "source": [
    "solar_data['month'] = pd.to_datetime(solar_data['date']).dt.to_period('M')\n",
    "display(solar_data.head())"
   ]
  },
  {
   "cell_type": "code",
   "execution_count": 100,
   "id": "288ffd0b",
   "metadata": {},
   "outputs": [
    {
     "data": {
      "text/html": [
       "<div>\n",
       "<style scoped>\n",
       "    .dataframe tbody tr th:only-of-type {\n",
       "        vertical-align: middle;\n",
       "    }\n",
       "\n",
       "    .dataframe tbody tr th {\n",
       "        vertical-align: top;\n",
       "    }\n",
       "\n",
       "    .dataframe thead th {\n",
       "        text-align: right;\n",
       "    }\n",
       "</style>\n",
       "<table border=\"1\" class=\"dataframe\">\n",
       "  <thead>\n",
       "    <tr style=\"text-align: right;\">\n",
       "      <th></th>\n",
       "      <th>date</th>\n",
       "      <th>cum_power</th>\n",
       "      <th>month</th>\n",
       "      <th>day_power</th>\n",
       "      <th>daily_power</th>\n",
       "    </tr>\n",
       "  </thead>\n",
       "  <tbody>\n",
       "    <tr>\n",
       "      <th>0</th>\n",
       "      <td>2017-01-01</td>\n",
       "      <td>20111.0</td>\n",
       "      <td>2017-01</td>\n",
       "      <td>0</td>\n",
       "      <td>NaN</td>\n",
       "    </tr>\n",
       "    <tr>\n",
       "      <th>1</th>\n",
       "      <td>2017-01-02</td>\n",
       "      <td>20112.0</td>\n",
       "      <td>2017-01</td>\n",
       "      <td>0</td>\n",
       "      <td>1.0</td>\n",
       "    </tr>\n",
       "    <tr>\n",
       "      <th>2</th>\n",
       "      <td>2017-01-03</td>\n",
       "      <td>20115.0</td>\n",
       "      <td>2017-01</td>\n",
       "      <td>0</td>\n",
       "      <td>3.0</td>\n",
       "    </tr>\n",
       "    <tr>\n",
       "      <th>3</th>\n",
       "      <td>2017-01-04</td>\n",
       "      <td>20117.0</td>\n",
       "      <td>2017-01</td>\n",
       "      <td>0</td>\n",
       "      <td>2.0</td>\n",
       "    </tr>\n",
       "    <tr>\n",
       "      <th>4</th>\n",
       "      <td>2017-01-05</td>\n",
       "      <td>20119.0</td>\n",
       "      <td>2017-01</td>\n",
       "      <td>0</td>\n",
       "      <td>2.0</td>\n",
       "    </tr>\n",
       "  </tbody>\n",
       "</table>\n",
       "</div>"
      ],
      "text/plain": [
       "         date  cum_power    month  day_power  daily_power\n",
       "0  2017-01-01    20111.0  2017-01          0          NaN\n",
       "1  2017-01-02    20112.0  2017-01          0          1.0\n",
       "2  2017-01-03    20115.0  2017-01          0          3.0\n",
       "3  2017-01-04    20117.0  2017-01          0          2.0\n",
       "4  2017-01-05    20119.0  2017-01          0          2.0"
      ]
     },
     "metadata": {},
     "output_type": "display_data"
    },
    {
     "name": "stdout",
     "output_type": "stream",
     "text": [
      "31\n",
      "334.0\n",
      "10.774193548387096\n"
     ]
    }
   ],
   "source": [
    "# создаю столбец daily_power — ежедневная выработка солнечной энергии\n",
    "\n",
    "for i in range(1, len(solar_data['cum_power'])):\n",
    "    solar_data.loc[i, 'daily_power'] = solar_data.loc[i, 'cum_power'] - solar_data.loc[i - 1, 'cum_power']\n",
    "\n",
    "display(solar_data.head())\n",
    "\n",
    "# Суммарная выработка за март 2017\n",
    "march_2017_mask = solar_data['month'] == pd.Period('2017-03')\n",
    "month_days = pd.Period('2017-03').days_in_month\n",
    "month_power = solar_data.loc[march_2017_mask, 'daily_power'].sum()\n",
    "\n",
    "print(month_days)\n",
    "print(month_power)\n",
    "\n",
    "daily_average = month_power / month_days\n",
    "print(daily_average)"
   ]
  },
  {
   "cell_type": "markdown",
   "id": "c9a95605",
   "metadata": {},
   "source": [
    "### Задание 3.3"
   ]
  },
  {
   "cell_type": "markdown",
   "id": "a9e53795",
   "metadata": {},
   "source": [
    "Постройте график временного ряда — средней ежедневной выработки солнечной энергии на каждый месяц-год. Не забудьте подписать оси и сам график.\n",
    "\n",
    "Выберите вывод, который можно сделать из полученного графика:"
   ]
  },
  {
   "cell_type": "code",
   "execution_count": 102,
   "id": "efb56f6f",
   "metadata": {},
   "outputs": [
    {
     "data": {
      "image/png": "[encoded data removed]",
      "text/plain": [
       "<Figure size 1200x500 with 1 Axes>"
      ]
     },
     "metadata": {},
     "output_type": "display_data"
    }
   ],
   "source": [
    "# Группируем по месяцам и считаем среднюю ежедневную выработку\n",
    "monthly_avg = solar_data.groupby('month')['daily_power'].mean()\n",
    "\n",
    "plt.figure(figsize=(12, 5))\n",
    "monthly_avg.plot(marker='o')\n",
    "plt.title('Средняя ежедневная выработка солнечной энергии по месяцам')\n",
    "plt.xlabel('Месяц-год')\n",
    "plt.ylabel('Средняя ежедневная выработка')\n",
    "plt.grid(True)\n",
    "plt.tight_layout()\n",
    "plt.show()"
   ]
  }
 ],
 "metadata": {
  "kernelspec": {
   "display_name": "Python 3",
   "language": "python",
   "name": "python3"
  },
  "language_info": {
   "codemirror_mode": {
    "name": "ipython",
    "version": 3
   },
   "file_extension": ".py",
   "mimetype": "text/x-python",
   "name": "python",
   "nbconvert_exporter": "python",
   "pygments_lexer": "ipython3",
   "version": "3.11.9"
  }
 },
 "nbformat": 4,
 "nbformat_minor": 5
}
