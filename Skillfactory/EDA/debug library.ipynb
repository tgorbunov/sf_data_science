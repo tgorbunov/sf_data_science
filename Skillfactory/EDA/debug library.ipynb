{
 "cells": [
  {
   "cell_type": "markdown",
   "id": "95efaa8e",
   "metadata": {},
   "source": [
    "The last thing I did was manually deleting all the residual files and remnanats from the previous installations. All the files named **matplotlib, mpl_toolkits, ~atplotlib, or similar** in the **C:\\Users\\tgorbunov\\AppData\\Local\\Programs\\Python\\Python310\\Lib\\site-packages** folder had to go to restart with a clean slate. Then reinstall packages with:"
   ]
  },
  {
   "cell_type": "code",
   "execution_count": null,
   "id": "cf682b98",
   "metadata": {},
   "outputs": [],
   "source": [
    "pip install --upgrade ipython jupyter matplotlib"
   ]
  },
  {
   "cell_type": "markdown",
   "id": "0cfd38f5",
   "metadata": {},
   "source": [
    "**Ctrl + Shift + P**\n",
    "\n",
    "then:\n",
    "**Python:select interpreter**\n",
    "\n",
    "Then:\n",
    "select version needed\n"
   ]
  },
  {
   "cell_type": "code",
   "execution_count": 1,
   "id": "3a68f7de",
   "metadata": {},
   "outputs": [
    {
     "name": "stdout",
     "output_type": "stream",
     "text": [
      "3.10.0 (tags/v3.10.0:b494f59, Oct  4 2021, 19:00:18) [MSC v.1929 64 bit (AMD64)]\n"
     ]
    }
   ],
   "source": [
    "import sys\n",
    "print(sys.version)"
   ]
  },
  {
   "cell_type": "markdown",
   "id": "7bca0c2f",
   "metadata": {},
   "source": [
    "# numpy"
   ]
  },
  {
   "cell_type": "code",
   "execution_count": null,
   "id": "171bcdc7",
   "metadata": {},
   "outputs": [],
   "source": [
    "pip install numpy==1.26.4"
   ]
  },
  {
   "cell_type": "code",
   "execution_count": null,
   "id": "36c48121",
   "metadata": {},
   "outputs": [],
   "source": [
    "import numpy as np\n",
    "print(np.__version__)"
   ]
  }
 ],
 "metadata": {
  "kernelspec": {
   "display_name": "Python 3",
   "language": "python",
   "name": "python3"
  },
  "language_info": {
   "codemirror_mode": {
    "name": "ipython",
    "version": 3
   },
   "file_extension": ".py",
   "mimetype": "text/x-python",
   "name": "python",
   "nbconvert_exporter": "python",
   "pygments_lexer": "ipython3",
   "version": "3.10.0"
  }
 },
 "nbformat": 4,
 "nbformat_minor": 5
}
