{
 "cells": [
  {
   "cell_type": "markdown",
   "id": "970a60fe",
   "metadata": {},
   "source": [
    "# 1. Введение"
   ]
  }
 ],
 "metadata": {
  "language_info": {
   "name": "python"
  }
 },
 "nbformat": 4,
 "nbformat_minor": 5
}
