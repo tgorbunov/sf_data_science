{
 "cells": [
  {
   "cell_type": "code",
   "execution_count": 241,
   "metadata": {
    "id": "t_IvORKWGuCH"
   },
   "outputs": [],
   "source": [
    "import pandas as pd\n",
    "import numpy as np\n",
    "import matplotlib.pyplot as plt\n",
    "import seaborn as sns\n",
    "\n",
    "from sklearn.model_selection import train_test_split\n",
    "from sklearn.linear_model import LinearRegression\n",
    "from sklearn.metrics import mean_absolute_error\n",
    "from sklearn.preprocessing import QuantileTransformer\n",
    "from sklearn.preprocessing import OneHotEncoder\n",
    "from sklearn import preprocessing\n",
    "from sklearn import linear_model \n",
    "from sklearn import metrics \n",
    "from sklearn import preprocessing \n",
    "from sklearn.model_selection import train_test_split "
   ]
  },
  {
   "cell_type": "markdown",
   "metadata": {
    "id": "FtTudvkQGzRk"
   },
   "source": [
    "# Загрузка данных"
   ]
  },
  {
   "cell_type": "code",
   "execution_count": 242,
   "metadata": {
    "id": "CiadW5D9G07U"
   },
   "outputs": [],
   "source": [
    "#%%capture\n",
    "#!wget https://www.dropbox.com/s/64ol9q9ssggz6f1/data_ford_price.xlsx"
   ]
  },
  {
   "cell_type": "code",
   "execution_count": 243,
   "metadata": {
    "id": "gmll87tAG2rK"
   },
   "outputs": [],
   "source": [
    "data = pd.read_excel('data/data_ford_price.xlsx') "
   ]
  },
  {
   "cell_type": "markdown",
   "metadata": {
    "id": "zKZZVz_6IA1m"
   },
   "source": [
    "#  Отбор признаков: мотивация"
   ]
  },
  {
   "cell_type": "markdown",
   "metadata": {
    "id": "dt3vhRQ2G_uP"
   },
   "source": [
    "## Предобработка данных"
   ]
  },
  {
   "cell_type": "code",
   "execution_count": 244,
   "metadata": {
    "id": "CJdK-t3MHDSp"
   },
   "outputs": [],
   "source": [
    "data = data[['price','year', 'cylinders', 'odometer', 'lat', 'long', 'weather']]\n",
    "data.dropna(inplace = True)\n",
    "\n",
    "y = data['price']\n",
    "x = data.drop(columns='price')\n",
    "\n",
    "X_train, X_test, y_train, y_test = train_test_split(x, y, test_size=0.3, random_state=40)"
   ]
  },
  {
   "cell_type": "markdown",
   "metadata": {
    "id": "kqjEj0ABG4ZD"
   },
   "source": [
    "## Обучение модели"
   ]
  },
  {
   "cell_type": "code",
   "execution_count": 245,
   "metadata": {
    "colab": {
     "base_uri": "https://localhost:8080/"
    },
    "executionInfo": {
     "elapsed": 8,
     "status": "ok",
     "timestamp": 1650361775695,
     "user": {
      "displayName": "Ketrin Trofimova",
      "userId": "05400058012601189465"
     },
     "user_tz": -180
    },
    "id": "K0aIWfwpHSHN",
    "outputId": "9d5779ab-7fea-43e4-f7d6-62317dfcc079"
   },
   "outputs": [
    {
     "name": "stdout",
     "output_type": "stream",
     "text": [
      "MAE: 4682.957\n"
     ]
    }
   ],
   "source": [
    "model = LinearRegression()\n",
    "model.fit(X_train, y_train)\n",
    "y_predicted = model.predict(X_test)\n",
    " \n",
    "mae = mean_absolute_error(y_test, y_predicted)\n",
    "print('MAE: %.3f' % mae)"
   ]
  },
  {
   "cell_type": "markdown",
   "metadata": {
    "id": "TznnlORnHisT"
   },
   "source": [
    "## Удаление избыточного признака"
   ]
  },
  {
   "cell_type": "code",
   "execution_count": 246,
   "metadata": {
    "id": "2uKP_vEMHoBa"
   },
   "outputs": [],
   "source": [
    "x.drop('lat', axis = 1, inplace = True)"
   ]
  },
  {
   "cell_type": "code",
   "execution_count": 247,
   "metadata": {
    "id": "A7f7kV-6HrrL"
   },
   "outputs": [],
   "source": [
    "X_train, X_test, y_train, y_test = train_test_split(x, y, test_size=0.3, random_state=40)"
   ]
  },
  {
   "cell_type": "code",
   "execution_count": 248,
   "metadata": {
    "colab": {
     "base_uri": "https://localhost:8080/"
    },
    "executionInfo": {
     "elapsed": 434,
     "status": "ok",
     "timestamp": 1650361779668,
     "user": {
      "displayName": "Ketrin Trofimova",
      "userId": "05400058012601189465"
     },
     "user_tz": -180
    },
    "id": "pJQpOM9kHtSe",
    "outputId": "709029e0-e13b-4f2b-92f7-9fa807a81b0f"
   },
   "outputs": [
    {
     "name": "stdout",
     "output_type": "stream",
     "text": [
      "MAE: 4672.930\n"
     ]
    }
   ],
   "source": [
    "model = LinearRegression()\n",
    "model.fit(X_train, y_train)\n",
    "y_predicted = model.predict(X_test)\n",
    " \n",
    "mae = mean_absolute_error(y_test, y_predicted)\n",
    "print('MAE: %.3f' % mae)"
   ]
  },
  {
   "cell_type": "markdown",
   "metadata": {
    "id": "E54vkz2xIGWm"
   },
   "source": [
    "#  Отбор признаков: классификация методов"
   ]
  },
  {
   "cell_type": "markdown",
   "metadata": {
    "id": "dUnTavGgIpj0"
   },
   "source": [
    "## Метод рекурсивного исключения признаков"
   ]
  },
  {
   "cell_type": "code",
   "execution_count": 249,
   "metadata": {
    "id": "UYdiW0RWIZ5V"
   },
   "outputs": [],
   "source": [
    "from sklearn.feature_selection import RFE"
   ]
  },
  {
   "cell_type": "code",
   "execution_count": 250,
   "metadata": {
    "id": "n3MW_xlPIJHd"
   },
   "outputs": [],
   "source": [
    "y = data['price']\n",
    "x = data.drop(columns='price')"
   ]
  },
  {
   "cell_type": "code",
   "execution_count": 251,
   "metadata": {
    "id": "uU5SYUHvOlbt"
   },
   "outputs": [],
   "source": [
    "X_train, X_test, y_train, y_test = train_test_split(x, y, test_size=0.3, random_state=40)"
   ]
  },
  {
   "cell_type": "code",
   "execution_count": 252,
   "metadata": {
    "colab": {
     "base_uri": "https://localhost:8080/"
    },
    "executionInfo": {
     "elapsed": 5,
     "status": "ok",
     "timestamp": 1650361787999,
     "user": {
      "displayName": "Ketrin Trofimova",
      "userId": "05400058012601189465"
     },
     "user_tz": -180
    },
    "id": "qxZGlxQYITTm",
    "outputId": "cf3cfc7c-1bb2-4a2b-b8c4-26a5857e251a"
   },
   "outputs": [
    {
     "data": {
      "text/plain": [
       "array(['year', 'cylinders', 'lat'], dtype=object)"
      ]
     },
     "execution_count": 252,
     "metadata": {},
     "output_type": "execute_result"
    }
   ],
   "source": [
    "estimator = LinearRegression()\n",
    "selector = RFE(estimator, n_features_to_select=3, step=1)\n",
    "selector = selector.fit(X_train, y_train)\n",
    " \n",
    "selector.get_feature_names_out()"
   ]
  },
  {
   "cell_type": "code",
   "execution_count": 253,
   "metadata": {
    "colab": {
     "base_uri": "https://localhost:8080/"
    },
    "executionInfo": {
     "elapsed": 303,
     "status": "ok",
     "timestamp": 1650361789809,
     "user": {
      "displayName": "Ketrin Trofimova",
      "userId": "05400058012601189465"
     },
     "user_tz": -180
    },
    "id": "VdZbOvqdIebk",
    "outputId": "ac89f779-2388-4185-8647-b8addd1cbfac"
   },
   "outputs": [
    {
     "data": {
      "text/plain": [
       "Index(['year', 'cylinders', 'odometer', 'lat', 'long', 'weather'], dtype='object')"
      ]
     },
     "execution_count": 253,
     "metadata": {},
     "output_type": "execute_result"
    }
   ],
   "source": [
    "X_train.columns"
   ]
  },
  {
   "cell_type": "code",
   "execution_count": 254,
   "metadata": {
    "colab": {
     "base_uri": "https://localhost:8080/"
    },
    "executionInfo": {
     "elapsed": 416,
     "status": "ok",
     "timestamp": 1650361793169,
     "user": {
      "displayName": "Ketrin Trofimova",
      "userId": "05400058012601189465"
     },
     "user_tz": -180
    },
    "id": "QJ93ms5kIlS7",
    "outputId": "ae52c597-f97e-4d2f-d679-fb7b9e29ed8a"
   },
   "outputs": [
    {
     "data": {
      "text/plain": [
       "array([1, 1, 4, 1, 3, 2])"
      ]
     },
     "execution_count": 254,
     "metadata": {},
     "output_type": "execute_result"
    }
   ],
   "source": [
    "selector.ranking_"
   ]
  },
  {
   "cell_type": "markdown",
   "metadata": {
    "id": "_KhZgXCkK3Ap"
   },
   "source": [
    "##  МЕТОДЫ ВЫБОРА ПРИЗНАКОВ НА ОСНОВЕ ФИЛЬТРОВ"
   ]
  },
  {
   "cell_type": "code",
   "execution_count": 255,
   "metadata": {
    "id": "mVHuMD0eK8or"
   },
   "outputs": [],
   "source": [
    "from sklearn.feature_selection import SelectKBest, f_regression"
   ]
  },
  {
   "cell_type": "code",
   "execution_count": 256,
   "metadata": {
    "colab": {
     "base_uri": "https://localhost:8080/"
    },
    "executionInfo": {
     "elapsed": 413,
     "status": "ok",
     "timestamp": 1650361806172,
     "user": {
      "displayName": "Ketrin Trofimova",
      "userId": "05400058012601189465"
     },
     "user_tz": -180
    },
    "id": "dc2EPKG5K39w",
    "outputId": "4bc13ef2-9c06-47c6-f892-566135ee3dcd"
   },
   "outputs": [
    {
     "data": {
      "text/plain": [
       "array(['year', 'cylinders', 'odometer'], dtype=object)"
      ]
     },
     "execution_count": 256,
     "metadata": {},
     "output_type": "execute_result"
    }
   ],
   "source": [
    "selector = SelectKBest(f_regression, k=3)\n",
    "selector.fit(X_train, y_train)\n",
    " \n",
    "selector.get_feature_names_out()"
   ]
  },
  {
   "cell_type": "markdown",
   "metadata": {},
   "source": [
    "# <center> Домашнее задание"
   ]
  },
  {
   "attachments": {
    "image.png": {
     "image/png": "[encoded data removed]"
    }
   },
   "cell_type": "markdown",
   "metadata": {},
   "source": [
    "![image.png](attachment:image.png)"
   ]
  },
  {
   "cell_type": "markdown",
   "metadata": {},
   "source": [
    "## **Основываясь на описании задания из сообщения ментора: Задача состоит в обучении задачи линейной регрессии на найденных двумя способами трех важных признаков и сравнить полученные результаты.**"
   ]
  },
  {
   "cell_type": "code",
   "execution_count": 257,
   "metadata": {},
   "outputs": [
    {
     "data": {
      "text/html": [
       "<div>\n",
       "<style scoped>\n",
       "    .dataframe tbody tr th:only-of-type {\n",
       "        vertical-align: middle;\n",
       "    }\n",
       "\n",
       "    .dataframe tbody tr th {\n",
       "        vertical-align: top;\n",
       "    }\n",
       "\n",
       "    .dataframe thead th {\n",
       "        text-align: right;\n",
       "    }\n",
       "</style>\n",
       "<table border=\"1\" class=\"dataframe\">\n",
       "  <thead>\n",
       "    <tr style=\"text-align: right;\">\n",
       "      <th></th>\n",
       "      <th>price</th>\n",
       "      <th>year</th>\n",
       "      <th>condition</th>\n",
       "      <th>cylinders</th>\n",
       "      <th>odometer</th>\n",
       "      <th>title_status</th>\n",
       "      <th>transmission</th>\n",
       "      <th>drive</th>\n",
       "      <th>size</th>\n",
       "      <th>lat</th>\n",
       "      <th>long</th>\n",
       "      <th>weather</th>\n",
       "    </tr>\n",
       "  </thead>\n",
       "  <tbody>\n",
       "    <tr>\n",
       "      <th>0</th>\n",
       "      <td>43900</td>\n",
       "      <td>2016</td>\n",
       "      <td>4</td>\n",
       "      <td>6</td>\n",
       "      <td>43500</td>\n",
       "      <td>clean</td>\n",
       "      <td>automatic</td>\n",
       "      <td>4wd</td>\n",
       "      <td>full-size</td>\n",
       "      <td>36.471500</td>\n",
       "      <td>-82.483400</td>\n",
       "      <td>59.0</td>\n",
       "    </tr>\n",
       "    <tr>\n",
       "      <th>1</th>\n",
       "      <td>15490</td>\n",
       "      <td>2009</td>\n",
       "      <td>2</td>\n",
       "      <td>8</td>\n",
       "      <td>98131</td>\n",
       "      <td>clean</td>\n",
       "      <td>automatic</td>\n",
       "      <td>4wd</td>\n",
       "      <td>full-size</td>\n",
       "      <td>40.468826</td>\n",
       "      <td>-74.281734</td>\n",
       "      <td>52.0</td>\n",
       "    </tr>\n",
       "    <tr>\n",
       "      <th>2</th>\n",
       "      <td>2495</td>\n",
       "      <td>2002</td>\n",
       "      <td>2</td>\n",
       "      <td>8</td>\n",
       "      <td>201803</td>\n",
       "      <td>clean</td>\n",
       "      <td>automatic</td>\n",
       "      <td>4wd</td>\n",
       "      <td>full-size</td>\n",
       "      <td>42.477134</td>\n",
       "      <td>-82.949564</td>\n",
       "      <td>45.0</td>\n",
       "    </tr>\n",
       "  </tbody>\n",
       "</table>\n",
       "</div>"
      ],
      "text/plain": [
       "   price  year  condition  cylinders  odometer title_status transmission  \\\n",
       "0  43900  2016          4          6     43500        clean    automatic   \n",
       "1  15490  2009          2          8     98131        clean    automatic   \n",
       "2   2495  2002          2          8    201803        clean    automatic   \n",
       "\n",
       "  drive       size        lat       long  weather  \n",
       "0   4wd  full-size  36.471500 -82.483400     59.0  \n",
       "1   4wd  full-size  40.468826 -74.281734     52.0  \n",
       "2   4wd  full-size  42.477134 -82.949564     45.0  "
      ]
     },
     "execution_count": 257,
     "metadata": {},
     "output_type": "execute_result"
    }
   ],
   "source": [
    "# прочитаем исходную таблицы\n",
    "data = pd.read_excel('data/data_ford_price.xlsx') \n",
    "data.head(3)"
   ]
  },
  {
   "cell_type": "markdown",
   "metadata": {},
   "source": [
    "Оставляем только \"отобранные важные\" признаки и коючевой признак \"цена\", для преобразования данных обьединим эти списки:"
   ]
  },
  {
   "cell_type": "code",
   "execution_count": 258,
   "metadata": {},
   "outputs": [
    {
     "data": {
      "text/html": [
       "<div>\n",
       "<style scoped>\n",
       "    .dataframe tbody tr th:only-of-type {\n",
       "        vertical-align: middle;\n",
       "    }\n",
       "\n",
       "    .dataframe tbody tr th {\n",
       "        vertical-align: top;\n",
       "    }\n",
       "\n",
       "    .dataframe thead th {\n",
       "        text-align: right;\n",
       "    }\n",
       "</style>\n",
       "<table border=\"1\" class=\"dataframe\">\n",
       "  <thead>\n",
       "    <tr style=\"text-align: right;\">\n",
       "      <th></th>\n",
       "      <th>year</th>\n",
       "      <th>cylinders</th>\n",
       "      <th>lat</th>\n",
       "      <th>odometer</th>\n",
       "      <th>price</th>\n",
       "    </tr>\n",
       "  </thead>\n",
       "  <tbody>\n",
       "    <tr>\n",
       "      <th>0</th>\n",
       "      <td>2016</td>\n",
       "      <td>6</td>\n",
       "      <td>36.471500</td>\n",
       "      <td>43500</td>\n",
       "      <td>43900</td>\n",
       "    </tr>\n",
       "    <tr>\n",
       "      <th>1</th>\n",
       "      <td>2009</td>\n",
       "      <td>8</td>\n",
       "      <td>40.468826</td>\n",
       "      <td>98131</td>\n",
       "      <td>15490</td>\n",
       "    </tr>\n",
       "    <tr>\n",
       "      <th>2</th>\n",
       "      <td>2002</td>\n",
       "      <td>8</td>\n",
       "      <td>42.477134</td>\n",
       "      <td>201803</td>\n",
       "      <td>2495</td>\n",
       "    </tr>\n",
       "  </tbody>\n",
       "</table>\n",
       "</div>"
      ],
      "text/plain": [
       "   year  cylinders        lat  odometer  price\n",
       "0  2016          6  36.471500     43500  43900\n",
       "1  2009          8  40.468826     98131  15490\n",
       "2  2002          8  42.477134    201803   2495"
      ]
     },
     "execution_count": 258,
     "metadata": {},
     "output_type": "execute_result"
    }
   ],
   "source": [
    "data = data[['year', 'cylinders', 'lat', 'odometer', 'price']]\n",
    "data.head(3)"
   ]
  },
  {
   "cell_type": "markdown",
   "metadata": {},
   "source": [
    "Построение гистограмм для отобранных признаков"
   ]
  },
  {
   "cell_type": "code",
   "execution_count": 259,
   "metadata": {},
   "outputs": [
    {
     "data": {
      "image/png": "[encoded data removed]",
      "text/plain": [
       "<Figure size 1500x1000 with 6 Axes>"
      ]
     },
     "metadata": {},
     "output_type": "display_data"
    },
    {
     "name": "stdout",
     "output_type": "stream",
     "text": [
      "Основная статистика по отобранным признакам:\n",
      "              year    cylinders          lat      odometer          price\n",
      "count  7017.000000  7017.000000  7017.000000  7.017000e+03    7017.000000\n",
      "mean   2007.869745     7.374662    39.550144  1.199787e+05   15121.549523\n",
      "std       6.975329     0.942928     5.745409  8.992216e+04   11765.423119\n",
      "min    1957.000000     3.000000    -2.508807  0.000000e+00       1.000000\n",
      "25%    2004.000000     6.000000    35.661076  7.328500e+04    5995.000000\n",
      "50%    2010.000000     8.000000    40.335245  1.180000e+05   12750.000000\n",
      "75%    2013.000000     8.000000    43.582100  1.578040e+05   21995.000000\n",
      "max    2018.000000    10.000000    77.617682  2.490000e+06  299500.000000\n"
     ]
    }
   ],
   "source": [
    "# Построим гистограммы для всех признаков\n",
    "fig, axes = plt.subplots(2, 3, figsize=(15, 10))\n",
    "axes = axes.ravel()  # Превращаем в одномерный массив для удобства\n",
    "\n",
    "columns = data.columns\n",
    "for i, column in enumerate(columns):\n",
    "    axes[i].hist(data[column], bins=30, alpha=0.7, color='skyblue', edgecolor='black')\n",
    "    axes[i].set_title(f'Распределение {column}', fontsize=12)\n",
    "    axes[i].set_xlabel(column)\n",
    "    axes[i].set_ylabel('Частота')\n",
    "    axes[i].grid(True, alpha=0.3)\n",
    "\n",
    "# Убираем лишний subplot\n",
    "axes[5].axis('off')\n",
    "\n",
    "plt.tight_layout()\n",
    "plt.show()\n",
    "\n",
    "# Также выведем основную статистику\n",
    "print(\"Основная статистика по отобранным признакам:\")\n",
    "print(data.describe())"
   ]
  },
  {
   "cell_type": "markdown",
   "metadata": {},
   "source": [
    "Логарифмического преобразование 'price'"
   ]
  },
  {
   "cell_type": "code",
   "execution_count": 260,
   "metadata": {},
   "outputs": [
    {
     "data": {
      "image/png": "[encoded data removed]",
      "text/plain": [
       "<Figure size 640x480 with 1 Axes>"
      ]
     },
     "metadata": {},
     "output_type": "display_data"
    }
   ],
   "source": [
    "data['price'] = np.log(data['price'])\n",
    "\n",
    "# выведем гистограмма\n",
    "log_price = data['price']\n",
    "plt.hist(log_price)\n",
    "plt.title('Трансформированное распределение признака price')\n",
    "plt.show()"
   ]
  },
  {
   "cell_type": "markdown",
   "metadata": {},
   "source": [
    "Нормализация методом RobustScaler для 'odometer'"
   ]
  },
  {
   "cell_type": "code",
   "execution_count": 261,
   "metadata": {},
   "outputs": [
    {
     "data": {
      "image/png": "[encoded data removed]",
      "text/plain": [
       "<Figure size 1000x800 with 1 Axes>"
      ]
     },
     "metadata": {},
     "output_type": "display_data"
    }
   ],
   "source": [
    "# инициализируем нормализатор RobustScaler\n",
    "r_scaler = preprocessing.RobustScaler()\n",
    "\n",
    "# Преобразуем в 2D массив для RobustScaler\n",
    "df = data['odometer'].values.reshape(-1, 1)\n",
    "df_r = r_scaler.fit_transform(df)\n",
    "\n",
    "# Преобразуем обратно в DataFrame для визуализации\n",
    "df_r = pd.DataFrame(df_r, columns=['odometer'])\n",
    "\n",
    "# Применяем преобразование к исходным данным\n",
    "data['odometer'] = df_r['odometer'].values\n",
    "\n",
    "fig, (ax1) = plt.subplots(ncols=1, figsize=(10, 8))\n",
    "ax1.set_title('Распределение odometer после RobustScaler')\n",
    "\n",
    "sns.kdeplot(data=df_r, x='odometer', ax=ax1)\n",
    "plt.show()"
   ]
  },
  {
   "cell_type": "markdown",
   "metadata": {},
   "source": [
    "Преобразуем признак 'year'"
   ]
  },
  {
   "cell_type": "code",
   "execution_count": 262,
   "metadata": {},
   "outputs": [
    {
     "data": {
      "image/png": "[encoded data removed]",
      "text/plain": [
       "<Figure size 640x480 with 1 Axes>"
      ]
     },
     "metadata": {},
     "output_type": "display_data"
    }
   ],
   "source": [
    "# Данный трансформер принимает на вход 2D-массив, поэтому нам надо изменить формат данных (поскольку мы подаём на вход только один столбец)\n",
    "data_for_transform = data['year'].values.reshape((len(data),1))\n",
    " \n",
    "quantile = QuantileTransformer(output_distribution='normal')\n",
    "data_transformed = quantile.fit_transform(data_for_transform)\n",
    "\n",
    "data['year'] = data_transformed.flatten()\n",
    "\n",
    " \n",
    "plt.hist(data_transformed, bins=25)\n",
    "plt.title('Трансформированное распределение признака year')\n",
    "plt.show()"
   ]
  },
  {
   "cell_type": "markdown",
   "metadata": {},
   "source": [
    "Количество цилиндров является номинальным признаком, закодируем его с помощью OneHotEncoding"
   ]
  },
  {
   "cell_type": "code",
   "execution_count": 263,
   "metadata": {},
   "outputs": [
    {
     "name": "stdout",
     "output_type": "stream",
     "text": [
      "['cylinders_3' 'cylinders_4' 'cylinders_5' 'cylinders_6' 'cylinders_8'\n",
      " 'cylinders_10']\n"
     ]
    }
   ],
   "source": [
    "one_hot_encoder = OneHotEncoder()\n",
    "columns_to_change = ['cylinders']\n",
    " \n",
    "# 'учим' и сразу применяем преобразование к выборке, результат переводим в массив\n",
    "data_onehot = one_hot_encoder.fit_transform(data[columns_to_change]).toarray()\n",
    " \n",
    "# запишем полученные названия новых колонок в отдельную переменную\n",
    "column_names = one_hot_encoder.get_feature_names_out(columns_to_change)\n",
    "print(column_names)"
   ]
  },
  {
   "cell_type": "code",
   "execution_count": 264,
   "metadata": {},
   "outputs": [
    {
     "data": {
      "text/html": [
       "<div>\n",
       "<style scoped>\n",
       "    .dataframe tbody tr th:only-of-type {\n",
       "        vertical-align: middle;\n",
       "    }\n",
       "\n",
       "    .dataframe tbody tr th {\n",
       "        vertical-align: top;\n",
       "    }\n",
       "\n",
       "    .dataframe thead th {\n",
       "        text-align: right;\n",
       "    }\n",
       "</style>\n",
       "<table border=\"1\" class=\"dataframe\">\n",
       "  <thead>\n",
       "    <tr style=\"text-align: right;\">\n",
       "      <th></th>\n",
       "      <th>year</th>\n",
       "      <th>lat</th>\n",
       "      <th>odometer</th>\n",
       "      <th>price</th>\n",
       "      <th>cylinders_3</th>\n",
       "      <th>cylinders_4</th>\n",
       "      <th>cylinders_5</th>\n",
       "      <th>cylinders_6</th>\n",
       "      <th>cylinders_8</th>\n",
       "      <th>cylinders_10</th>\n",
       "    </tr>\n",
       "  </thead>\n",
       "  <tbody>\n",
       "    <tr>\n",
       "      <th>0</th>\n",
       "      <td>1.558482</td>\n",
       "      <td>36.471500</td>\n",
       "      <td>-0.881459</td>\n",
       "      <td>10.689670</td>\n",
       "      <td>0.0</td>\n",
       "      <td>0.0</td>\n",
       "      <td>0.0</td>\n",
       "      <td>1.0</td>\n",
       "      <td>0.0</td>\n",
       "      <td>0.0</td>\n",
       "    </tr>\n",
       "    <tr>\n",
       "      <th>1</th>\n",
       "      <td>-0.041413</td>\n",
       "      <td>40.468826</td>\n",
       "      <td>-0.235083</td>\n",
       "      <td>9.647950</td>\n",
       "      <td>0.0</td>\n",
       "      <td>0.0</td>\n",
       "      <td>0.0</td>\n",
       "      <td>0.0</td>\n",
       "      <td>1.0</td>\n",
       "      <td>0.0</td>\n",
       "    </tr>\n",
       "    <tr>\n",
       "      <th>2</th>\n",
       "      <td>-0.933910</td>\n",
       "      <td>42.477134</td>\n",
       "      <td>0.991529</td>\n",
       "      <td>7.822044</td>\n",
       "      <td>0.0</td>\n",
       "      <td>0.0</td>\n",
       "      <td>0.0</td>\n",
       "      <td>0.0</td>\n",
       "      <td>1.0</td>\n",
       "      <td>0.0</td>\n",
       "    </tr>\n",
       "    <tr>\n",
       "      <th>3</th>\n",
       "      <td>-1.149742</td>\n",
       "      <td>40.764373</td>\n",
       "      <td>0.618855</td>\n",
       "      <td>7.170120</td>\n",
       "      <td>0.0</td>\n",
       "      <td>0.0</td>\n",
       "      <td>0.0</td>\n",
       "      <td>0.0</td>\n",
       "      <td>1.0</td>\n",
       "      <td>0.0</td>\n",
       "    </tr>\n",
       "    <tr>\n",
       "      <th>4</th>\n",
       "      <td>0.099274</td>\n",
       "      <td>49.210949</td>\n",
       "      <td>0.568653</td>\n",
       "      <td>9.537123</td>\n",
       "      <td>0.0</td>\n",
       "      <td>0.0</td>\n",
       "      <td>0.0</td>\n",
       "      <td>0.0</td>\n",
       "      <td>1.0</td>\n",
       "      <td>0.0</td>\n",
       "    </tr>\n",
       "    <tr>\n",
       "      <th>...</th>\n",
       "      <td>...</td>\n",
       "      <td>...</td>\n",
       "      <td>...</td>\n",
       "      <td>...</td>\n",
       "      <td>...</td>\n",
       "      <td>...</td>\n",
       "      <td>...</td>\n",
       "      <td>...</td>\n",
       "      <td>...</td>\n",
       "      <td>...</td>\n",
       "    </tr>\n",
       "    <tr>\n",
       "      <th>7012</th>\n",
       "      <td>1.204935</td>\n",
       "      <td>32.680700</td>\n",
       "      <td>-1.118092</td>\n",
       "      <td>10.021271</td>\n",
       "      <td>0.0</td>\n",
       "      <td>0.0</td>\n",
       "      <td>0.0</td>\n",
       "      <td>1.0</td>\n",
       "      <td>0.0</td>\n",
       "      <td>0.0</td>\n",
       "    </tr>\n",
       "    <tr>\n",
       "      <th>7013</th>\n",
       "      <td>-0.570161</td>\n",
       "      <td>38.213303</td>\n",
       "      <td>-1.396136</td>\n",
       "      <td>8.695339</td>\n",
       "      <td>0.0</td>\n",
       "      <td>0.0</td>\n",
       "      <td>0.0</td>\n",
       "      <td>0.0</td>\n",
       "      <td>1.0</td>\n",
       "      <td>0.0</td>\n",
       "    </tr>\n",
       "    <tr>\n",
       "      <th>7014</th>\n",
       "      <td>-0.415634</td>\n",
       "      <td>37.609783</td>\n",
       "      <td>0.514843</td>\n",
       "      <td>9.210240</td>\n",
       "      <td>0.0</td>\n",
       "      <td>0.0</td>\n",
       "      <td>0.0</td>\n",
       "      <td>0.0</td>\n",
       "      <td>1.0</td>\n",
       "      <td>0.0</td>\n",
       "    </tr>\n",
       "    <tr>\n",
       "      <th>7015</th>\n",
       "      <td>0.279606</td>\n",
       "      <td>43.140600</td>\n",
       "      <td>0.544256</td>\n",
       "      <td>9.296518</td>\n",
       "      <td>0.0</td>\n",
       "      <td>0.0</td>\n",
       "      <td>0.0</td>\n",
       "      <td>0.0</td>\n",
       "      <td>1.0</td>\n",
       "      <td>0.0</td>\n",
       "    </tr>\n",
       "    <tr>\n",
       "      <th>7016</th>\n",
       "      <td>0.099274</td>\n",
       "      <td>37.987200</td>\n",
       "      <td>-0.165643</td>\n",
       "      <td>9.798127</td>\n",
       "      <td>0.0</td>\n",
       "      <td>0.0</td>\n",
       "      <td>0.0</td>\n",
       "      <td>0.0</td>\n",
       "      <td>1.0</td>\n",
       "      <td>0.0</td>\n",
       "    </tr>\n",
       "  </tbody>\n",
       "</table>\n",
       "<p>7017 rows × 10 columns</p>\n",
       "</div>"
      ],
      "text/plain": [
       "          year        lat  odometer      price  cylinders_3  cylinders_4  \\\n",
       "0     1.558482  36.471500 -0.881459  10.689670          0.0          0.0   \n",
       "1    -0.041413  40.468826 -0.235083   9.647950          0.0          0.0   \n",
       "2    -0.933910  42.477134  0.991529   7.822044          0.0          0.0   \n",
       "3    -1.149742  40.764373  0.618855   7.170120          0.0          0.0   \n",
       "4     0.099274  49.210949  0.568653   9.537123          0.0          0.0   \n",
       "...        ...        ...       ...        ...          ...          ...   \n",
       "7012  1.204935  32.680700 -1.118092  10.021271          0.0          0.0   \n",
       "7013 -0.570161  38.213303 -1.396136   8.695339          0.0          0.0   \n",
       "7014 -0.415634  37.609783  0.514843   9.210240          0.0          0.0   \n",
       "7015  0.279606  43.140600  0.544256   9.296518          0.0          0.0   \n",
       "7016  0.099274  37.987200 -0.165643   9.798127          0.0          0.0   \n",
       "\n",
       "      cylinders_5  cylinders_6  cylinders_8  cylinders_10  \n",
       "0             0.0          1.0          0.0           0.0  \n",
       "1             0.0          0.0          1.0           0.0  \n",
       "2             0.0          0.0          1.0           0.0  \n",
       "3             0.0          0.0          1.0           0.0  \n",
       "4             0.0          0.0          1.0           0.0  \n",
       "...           ...          ...          ...           ...  \n",
       "7012          0.0          1.0          0.0           0.0  \n",
       "7013          0.0          0.0          1.0           0.0  \n",
       "7014          0.0          0.0          1.0           0.0  \n",
       "7015          0.0          0.0          1.0           0.0  \n",
       "7016          0.0          0.0          1.0           0.0  \n",
       "\n",
       "[7017 rows x 10 columns]"
      ]
     },
     "execution_count": 264,
     "metadata": {},
     "output_type": "execute_result"
    }
   ],
   "source": [
    "# Преобразуем numpy array в DataFrame и добавляем к исходным данным\n",
    "data_onehot_df = pd.DataFrame(data_onehot, columns=column_names, index=data.index)\n",
    "data = pd.concat([data, data_onehot_df], axis=1)\n",
    "\n",
    "# Удаляем исходный столбец cylinders, так как он заменён закодированными признаками\n",
    "data = data.drop('cylinders', axis=1)\n",
    "data.head(3)"
   ]
  },
  {
   "cell_type": "markdown",
   "metadata": {},
   "source": [
    "### <center> Моделирование #1 по результатам **RFE**, признаки ['year', 'cylinders', 'lat']"
   ]
  },
  {
   "cell_type": "code",
   "execution_count": 265,
   "metadata": {},
   "outputs": [
    {
     "name": "stdout",
     "output_type": "stream",
     "text": [
      "Train shape: (5613, 8)\n",
      "Test shape: (1404, 8)\n"
     ]
    }
   ],
   "source": [
    "#удалим признак не входящий в \"важные признаки\" по RFE\n",
    "data = data.drop('odometer', axis=1)\n",
    "\n",
    "#X - матрица наблюдений, y - столбец правильных ответов\n",
    "X = data.drop('price', axis=1)\n",
    "y = data['price']\n",
    "#Разделяем выборку на тренировочную и тестовую в соотношении 80/20\n",
    "X_train, X_test, y_train, y_test = train_test_split(X, y, test_size=0.2, random_state=42)\n",
    "print('Train shape: {}'.format(X_train.shape))\n",
    "print('Test shape: {}'.format(X_test.shape))"
   ]
  },
  {
   "cell_type": "markdown",
   "metadata": {},
   "source": [
    "Заранее создадим функцию, которая будет расчитывать метрики:\n",
    "\n",
    "1. MAE - средняя абсолютная ошибка (целевая метрика)\n",
    "2. MAPE - средняя абсолютная ошибка в процентах \n",
    "3. $R^2$ - коэффициент детерминации "
   ]
  },
  {
   "cell_type": "code",
   "execution_count": 268,
   "metadata": {},
   "outputs": [],
   "source": [
    "def print_metrics(y_train, y_train_predict, y_test, y_test_predict):\n",
    "    print('Train R^2: {:.3f}'.format(metrics.r2_score(y_train, y_train_predict)))\n",
    "    print('Train MAE: {:.3f}'.format(metrics.mean_absolute_error(y_train, y_train_predict)))\n",
    "    print('Train MAPE: {:.3f}'.format(metrics.mean_absolute_percentage_error(y_train, y_train_predict)*100))\n",
    "    print('\\n')\n",
    "    print('Test R^2: {:.3f}'.format(metrics.r2_score(y_test, y_test_predict)))\n",
    "    print('Test MAE: {:.3f}'.format(metrics.mean_absolute_error(y_test, y_test_predict)))\n",
    "    print('Train MAPE: {:.3f}'.format(metrics.mean_absolute_percentage_error(y_test, y_test_predict)*100))"
   ]
  },
  {
   "cell_type": "code",
   "execution_count": 271,
   "metadata": {},
   "outputs": [
    {
     "name": "stdout",
     "output_type": "stream",
     "text": [
      "Train R^2: 0.359\n",
      "Train MAE: 0.521\n",
      "Train MAPE: 32543211011440908.000\n",
      "\n",
      "\n",
      "Test R^2: 0.427\n",
      "Test MAE: 0.508\n",
      "Train MAPE: 17020706006890638.000\n"
     ]
    }
   ],
   "source": [
    "#Инициализируем объект класса линейная регрессия\n",
    "lr = linear_model.LinearRegression()\n",
    "#Обучаем модель предсказывать логарифм целевого признака\n",
    "lr.fit(X_train, y_train)\n",
    "#Делаем предсказание для каждой из выборок\n",
    "#Если обучили на логарифме, то от результата необходимо взять обратную функцию - экспоненту\n",
    "y_train_pred = lr.predict(X_train)\n",
    "y_test_pred = lr.predict(X_test)\n",
    "#Выводим результирующие метрики\n",
    "print_metrics(y_train, y_train_pred, y_test, y_test_pred)"
   ]
  },
  {
   "cell_type": "code",
   "execution_count": 272,
   "metadata": {},
   "outputs": [
    {
     "name": "stdout",
     "output_type": "stream",
     "text": [
      "Train R^2: -685923587.738\n",
      "Train MAE: 14928.024\n",
      "Train MAPE: 37270093901303201792.000\n",
      "\n",
      "\n",
      "Test R^2: -1003538523.500\n",
      "Test MAE: 16531.841\n",
      "Train MAPE: 17429409913652729856.000\n"
     ]
    }
   ],
   "source": [
    "#Инициализируем объект класса линейная регрессия с L2-регуляризацией \n",
    "ridge_lr_poly = linear_model.Ridge()\n",
    "#Обучаем модель предсказывать логарифм целевого признака\n",
    "ridge_lr_poly.fit(X_train, y_train)\n",
    "#Делаем предсказание для каждой из выборок\n",
    "#Если обучили на логарифме, то от результата необходимо взять обратную функцию - экспоненту\n",
    "y_train_pred = np.exp(ridge_lr_poly.predict(X_train))\n",
    "y_test_pred = np.exp(ridge_lr_poly.predict(X_test))\n",
    "#Выводим результирующие метрики\n",
    "print_metrics(y_train, y_train_pred, y_test, y_test_pred)"
   ]
  },
  {
   "cell_type": "code",
   "execution_count": 278,
   "metadata": {},
   "outputs": [
    {
     "data": {
      "text/html": [
       "<div>\n",
       "<style scoped>\n",
       "    .dataframe tbody tr th:only-of-type {\n",
       "        vertical-align: middle;\n",
       "    }\n",
       "\n",
       "    .dataframe tbody tr th {\n",
       "        vertical-align: top;\n",
       "    }\n",
       "\n",
       "    .dataframe thead th {\n",
       "        text-align: right;\n",
       "    }\n",
       "</style>\n",
       "<table border=\"1\" class=\"dataframe\">\n",
       "  <thead>\n",
       "    <tr style=\"text-align: right;\">\n",
       "      <th></th>\n",
       "      <th>year</th>\n",
       "      <th>cylinders</th>\n",
       "      <th>lat</th>\n",
       "      <th>price</th>\n",
       "    </tr>\n",
       "  </thead>\n",
       "  <tbody>\n",
       "    <tr>\n",
       "      <th>0</th>\n",
       "      <td>2016</td>\n",
       "      <td>6</td>\n",
       "      <td>36.471500</td>\n",
       "      <td>43900</td>\n",
       "    </tr>\n",
       "    <tr>\n",
       "      <th>1</th>\n",
       "      <td>2009</td>\n",
       "      <td>8</td>\n",
       "      <td>40.468826</td>\n",
       "      <td>15490</td>\n",
       "    </tr>\n",
       "    <tr>\n",
       "      <th>2</th>\n",
       "      <td>2002</td>\n",
       "      <td>8</td>\n",
       "      <td>42.477134</td>\n",
       "      <td>2495</td>\n",
       "    </tr>\n",
       "    <tr>\n",
       "      <th>3</th>\n",
       "      <td>2000</td>\n",
       "      <td>8</td>\n",
       "      <td>40.764373</td>\n",
       "      <td>1300</td>\n",
       "    </tr>\n",
       "    <tr>\n",
       "      <th>4</th>\n",
       "      <td>2010</td>\n",
       "      <td>8</td>\n",
       "      <td>49.210949</td>\n",
       "      <td>13865</td>\n",
       "    </tr>\n",
       "    <tr>\n",
       "      <th>...</th>\n",
       "      <td>...</td>\n",
       "      <td>...</td>\n",
       "      <td>...</td>\n",
       "      <td>...</td>\n",
       "    </tr>\n",
       "    <tr>\n",
       "      <th>7012</th>\n",
       "      <td>2015</td>\n",
       "      <td>6</td>\n",
       "      <td>32.680700</td>\n",
       "      <td>22500</td>\n",
       "    </tr>\n",
       "    <tr>\n",
       "      <th>7013</th>\n",
       "      <td>2005</td>\n",
       "      <td>8</td>\n",
       "      <td>38.213303</td>\n",
       "      <td>5975</td>\n",
       "    </tr>\n",
       "    <tr>\n",
       "      <th>7014</th>\n",
       "      <td>2006</td>\n",
       "      <td>8</td>\n",
       "      <td>37.609783</td>\n",
       "      <td>9999</td>\n",
       "    </tr>\n",
       "    <tr>\n",
       "      <th>7015</th>\n",
       "      <td>2011</td>\n",
       "      <td>8</td>\n",
       "      <td>43.140600</td>\n",
       "      <td>10900</td>\n",
       "    </tr>\n",
       "    <tr>\n",
       "      <th>7016</th>\n",
       "      <td>2010</td>\n",
       "      <td>8</td>\n",
       "      <td>37.987200</td>\n",
       "      <td>18000</td>\n",
       "    </tr>\n",
       "  </tbody>\n",
       "</table>\n",
       "<p>7017 rows × 4 columns</p>\n",
       "</div>"
      ],
      "text/plain": [
       "      year  cylinders        lat  price\n",
       "0     2016          6  36.471500  43900\n",
       "1     2009          8  40.468826  15490\n",
       "2     2002          8  42.477134   2495\n",
       "3     2000          8  40.764373   1300\n",
       "4     2010          8  49.210949  13865\n",
       "...    ...        ...        ...    ...\n",
       "7012  2015          6  32.680700  22500\n",
       "7013  2005          8  38.213303   5975\n",
       "7014  2006          8  37.609783   9999\n",
       "7015  2011          8  43.140600  10900\n",
       "7016  2010          8  37.987200  18000\n",
       "\n",
       "[7017 rows x 4 columns]"
      ]
     },
     "execution_count": 278,
     "metadata": {},
     "output_type": "execute_result"
    }
   ],
   "source": [
    "# прочитаем исходную таблицы\n",
    "data = pd.read_excel('data/data_ford_price.xlsx') \n",
    "data = data[['year', 'cylinders', 'lat', 'price']]\n",
    "data"
   ]
  },
  {
   "cell_type": "code",
   "execution_count": 279,
   "metadata": {},
   "outputs": [
    {
     "name": "stdout",
     "output_type": "stream",
     "text": [
      "Train shape: (5613, 3)\n",
      "Test shape: (1404, 3)\n"
     ]
    }
   ],
   "source": [
    "#X - матрица наблюдений, y - столбец правильных ответов\n",
    "X = data.drop('price', axis=1)\n",
    "y = data['price']\n",
    "#Разделяем выборку на тренировочную и тестовую в соотношении 80/20\n",
    "X_train, X_test, y_train, y_test = train_test_split(X, y, test_size=0.2, random_state=42)\n",
    "print('Train shape: {}'.format(X_train.shape))\n",
    "print('Test shape: {}'.format(X_test.shape))"
   ]
  },
  {
   "cell_type": "code",
   "execution_count": 280,
   "metadata": {},
   "outputs": [
    {
     "name": "stdout",
     "output_type": "stream",
     "text": [
      "Train R^2: 0.575\n",
      "Train MAE: 5251.427\n",
      "Train MAPE: 13240.475\n",
      "\n",
      "\n",
      "Test R^2: 0.386\n",
      "Test MAE: 5513.684\n",
      "Train MAPE: 8874.043\n"
     ]
    }
   ],
   "source": [
    "#Инициализируем объект класса линейная регрессия\n",
    "lr = linear_model.LinearRegression()\n",
    "#Обучаем модель предсказывать логарифм целевого признака\n",
    "lr.fit(X_train, y_train)\n",
    "#Делаем предсказание для каждой из выборок\n",
    "#Если обучили на логарифме, то от результата необходимо взять обратную функцию - экспоненту\n",
    "y_train_pred = lr.predict(X_train)\n",
    "y_test_pred = lr.predict(X_test)\n",
    "#Выводим результирующие метрики\n",
    "print_metrics(y_train, y_train_pred, y_test, y_test_pred)"
   ]
  }
 ],
 "metadata": {
  "colab": {
   "collapsed_sections": [],
   "name": "Отбор_признаков.ipynb",
   "provenance": []
  },
  "kernelspec": {
   "display_name": "Python 3",
   "name": "python3"
  },
  "language_info": {
   "codemirror_mode": {
    "name": "ipython",
    "version": 3
   },
   "file_extension": ".py",
   "mimetype": "text/x-python",
   "name": "python",
   "nbconvert_exporter": "python",
   "pygments_lexer": "ipython3",
   "version": "3.10.0"
  }
 },
 "nbformat": 4,
 "nbformat_minor": 0
}
